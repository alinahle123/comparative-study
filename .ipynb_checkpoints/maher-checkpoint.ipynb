{
 "cells": [
  {
   "cell_type": "markdown",
   "metadata": {},
   "source": [
    "# Maher Salloum"
   ]
  },
  {
   "cell_type": "markdown",
   "metadata": {},
   "source": [
    "# Apprentissage Automatique TP5\n"
   ]
  },
  {
   "cell_type": "code",
   "execution_count": 1,
   "metadata": {
    "scrolled": true
   },
   "outputs": [],
   "source": [
    "import time\n",
    "import pandas as pd\n",
    "import numpy as np\n",
    "from sklearn.model_selection import train_test_split\n",
    "from sklearn.model_selection import KFold\n",
    "from sklearn.model_selection import GridSearchCV\n",
    "from sklearn.linear_model import LogisticRegression\n",
    "from sklearn.svm import LinearSVC\n",
    "from sklearn.svm import SVC\n",
    "\n",
    "import warnings\n",
    "from sklearn.metrics import accuracy_score\n",
    "from sklearn.metrics import classification_report, confusion_matrix\n",
    "import seaborn as sns\n",
    "import matplotlib.pyplot as plt\n",
    "\n",
    "\n",
    "warnings.filterwarnings('ignore')"
   ]
  },
  {
   "cell_type": "markdown",
   "metadata": {},
   "source": [
    "### après avoir ouvert les ensembles de données et vu de quoi chacun est composé:  "
   ]
  },
  {
   "cell_type": "code",
   "execution_count": 2,
   "metadata": {
    "scrolled": true
   },
   "outputs": [],
   "source": [
    "def load_CSV_dataset(name):\n",
    "    # TODO\n",
    "    data=pd.read_csv(name)\n",
    "    if(name==\"heart.csv\"):\n",
    "        data=data.replace('present',1)\n",
    "        data=data.replace('absent',0)\n",
    "    if(name==\"diabetes.csv\"):\n",
    "        data=data.replace('tested_positive',1)\n",
    "        data=data.replace('tested_negative',0)\n",
    "    if(name==\"vehicle.csv\"):\n",
    "        data=data.replace({'saab':1, 'van':2, 'bus':3, 'opel':4})\n",
    "    if(name==\"segment.csv\"):\n",
    "        data=data.replace({'path':1, 'foliage':2, 'sky':3, 'grass':4, 'brickface':5, 'cement':6, 'window':7})               \n",
    "    X=data.iloc[:,:-1]\n",
    "    y=data.iloc[: , -1]\n",
    "    return X,y"
   ]
  },
  {
   "cell_type": "code",
   "execution_count": 3,
   "metadata": {
    "scrolled": true
   },
   "outputs": [],
   "source": [
    "def split_dataset(X, y):\n",
    "    # TODO\n",
    "    return train_test_split(X,y,test_size=0.3,train_size=0.7,random_state=42)"
   ]
  },
  {
   "cell_type": "code",
   "execution_count": 4,
   "metadata": {
    "scrolled": true
   },
   "outputs": [],
   "source": [
    "def run_logreg(data):\n",
    "    parameters = {\n",
    "    'penalty' : ['l1','l2'], \n",
    "    'C'       : [0.001, 0.01, 0.1, 1, 10, 100],\n",
    "    'solver'  : ['newton-cg', 'lbfgs', 'liblinear'],}\n",
    "    logreg = LogisticRegression()\n",
    "    \n",
    "    clf = GridSearchCV(logreg,                    # model\n",
    "                   param_grid = parameters,   # hyperparameters\n",
    "                   scoring='accuracy',        # metric for scoring\n",
    "                   cv=5)                     # number of folds\n",
    "    \n",
    "    grid_result = clf.fit(data[0], data[2].values.ravel())\n",
    "    res = clf.predict(data[1])\n",
    "    return res\n",
    "    "
   ]
  },
  {
   "cell_type": "code",
   "execution_count": 5,
   "metadata": {
    "scrolled": true
   },
   "outputs": [],
   "source": [
    "def run_linsvm(data):\n",
    "    parameters = { \n",
    "    'C'       : [0.001, 0.01, 0.1, 1, 10, 100],\n",
    "    'tol'     : [0.0001,0.001,0.01,0.1,1]}\n",
    "    \n",
    "    svc=SVC(kernel='linear')\n",
    "        \n",
    "    clf = GridSearchCV(svc,                    # model\n",
    "                   param_grid = parameters,   # hyperparameters\n",
    "                   scoring='accuracy',        # metric for scoring\n",
    "                   cv=5)                     # number of folds\n",
    "    \n",
    "    grid_result = clf.fit(data[0], data[2].values.ravel())\n",
    "    res = clf.predict(data[1])\n",
    "    return res"
   ]
  },
  {
   "cell_type": "code",
   "execution_count": 6,
   "metadata": {
    "scrolled": true
   },
   "outputs": [],
   "source": [
    "def run_rbfsvm(data):\n",
    "    parameters = {\n",
    "    'C'       : [0.001, 0.01, 0.1, 1, 10, 100],\n",
    "    'gamma'   : [0.0001,0.001,0.01,0.1,1]}\n",
    "    \n",
    "    svc=SVC(kernel='rbf')\n",
    "        \n",
    "    clf = GridSearchCV(svc,                    # model\n",
    "                   param_grid = parameters,   # hyperparameters\n",
    "                   scoring='accuracy',        # metric for scoring\n",
    "                   cv=5)                     # number of folds\n",
    "    \n",
    "    grid_result = clf.fit(data[0], data[2].values.ravel())\n",
    "    res = clf.predict(data[1])\n",
    "    return res"
   ]
  },
  {
   "cell_type": "code",
   "execution_count": 7,
   "metadata": {
    "scrolled": true
   },
   "outputs": [],
   "source": [
    "def process_results(res_logreg , res_linsvm , res_rbfsvm,name,y_or):\n",
    "    print(\"\\n\\n\")\n",
    "    print(\"la precision pour logistic regression est \",accuracy_score(y_or,res_logreg[len(res_logreg)-1]),\" pour le dataset \", name)\n",
    "    \n",
    "    print(\"\\n\\n\")\n",
    "    print(\"la precision pour LinearSVM est \",accuracy_score(y_or,res_linsvm[len(res_linsvm)-1]),\" pour le dataset \", name)\n",
    "    \n",
    "    print(\"\\n\\n\")\n",
    "    print(\"la precision pour RBF_SVM est \",accuracy_score(y_or,res_rbfsvm[len(res_rbfsvm)-1]),\" pour le dataset \", name)\n",
    "\n",
    "    print(\"\\n\\n\")\n",
    "    \n",
    "    print(\"Matrices de confusion: \")\n",
    "    print(\"\\n\\n\")\n",
    "    \n",
    "    Confusion_Matrix = confusion_matrix(res_logreg[len(res_logreg)-1], y_or)\n",
    "    b = sns.heatmap(Confusion_Matrix, annot=True)\n",
    "    b.set_title('Matrice de Confusion ,régression logistique, pour '+name);\n",
    "    b.set_xlabel('Predicted')\n",
    "    b.set_ylabel('Actual ');\n",
    "    plt.show()\n",
    "    print(\"\\n\\n\")\n",
    "\n",
    "    Confusion_Matrix = confusion_matrix(res_linsvm[len(res_linsvm)-1], y_or)\n",
    "    b = sns.heatmap(Confusion_Matrix, annot=True)\n",
    "    b.set_title('Matrice de Confusion (SVM linéaire) pour '+name);\n",
    "    b.set_xlabel('Predicted')\n",
    "    b.set_ylabel('Actual ');\n",
    "    plt.show()\n",
    "    print(\"\\n\\n\")\n",
    "    \n",
    "    Confusion_Matrix = confusion_matrix(res_rbfsvm[len(res_rbfsvm)-1], y_or)\n",
    "    b = sns.heatmap(Confusion_Matrix, annot=True)\n",
    "    b.set_title('Matrice de Confusion (SVM RBF) pour '+name);\n",
    "    b.set_xlabel('Predicted')\n",
    "    b.set_ylabel('Actual ');\n",
    "    plt.show()\n",
    "    print(\"\\n\\n\")\n",
    "    "
   ]
  },
  {
   "cell_type": "code",
   "execution_count": null,
   "metadata": {
    "scrolled": false
   },
   "outputs": [
    {
     "name": "stdout",
     "output_type": "stream",
     "text": [
      "heart.csv\n"
     ]
    }
   ],
   "source": [
    "if __name__ == '__main__':\n",
    "    ds_names = [\"heart\", \"diabetes\",\"vehicle\", \"segment\", \"spambase\"]\n",
    "    res_logreg = []\n",
    "    res_linsvm = []\n",
    "    res_rbfsvm = []\n",
    "    for name in ds_names:\n",
    "        start = time.time()\n",
    "        name += \".csv\"\n",
    "        print(name)\n",
    "        X, y = load_CSV_dataset(name)\n",
    "        data = split_dataset(X, y)\n",
    "        res_logreg.append(run_logreg(data))\n",
    "        res_linsvm.append(run_linsvm(data))\n",
    "        res_rbfsvm.append(run_rbfsvm(data))\n",
    "        end = time.time()\n",
    "        print(end - start)\n",
    "        process_results(res_logreg , res_linsvm , res_rbfsvm,name, data[3])"
   ]
  },
  {
   "cell_type": "code",
   "execution_count": null,
   "metadata": {
    "scrolled": true
   },
   "outputs": [],
   "source": []
  }
 ],
 "metadata": {
  "kernelspec": {
   "display_name": "Python 3",
   "language": "python",
   "name": "python3"
  },
  "language_info": {
   "codemirror_mode": {
    "name": "ipython",
    "version": 3
   },
   "file_extension": ".py",
   "mimetype": "text/x-python",
   "name": "python",
   "nbconvert_exporter": "python",
   "pygments_lexer": "ipython3",
   "version": "3.8.5"
  }
 },
 "nbformat": 4,
 "nbformat_minor": 4
}
